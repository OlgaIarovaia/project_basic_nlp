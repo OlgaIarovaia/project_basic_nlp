{
 "cells": [
  {
   "cell_type": "markdown",
   "id": "4cd5a564",
   "metadata": {},
   "source": [
    "# Исходные данные"
   ]
  },
  {
   "cell_type": "markdown",
   "id": "12913b4e",
   "metadata": {},
   "source": [
    "Дан набор данных с разметкой о токсичности правок.\n",
    "\n",
    " - text - текст комментария,\n",
    " - toxic - целевой признак."
   ]
  },
  {
   "cell_type": "markdown",
   "id": "219b3045",
   "metadata": {},
   "source": [
    "# Задача"
   ]
  },
  {
   "cell_type": "markdown",
   "id": "0472168d",
   "metadata": {},
   "source": [
    "Интернет-магазин запускает сервис, в котором пользователи могут редактировать и дополнять описания товаров. Нужен инструмент, который будет искать токсичные комментарии и отправлять их на модерацию. \n",
    "\n",
    " - Обучить модель классифицировать комментарии на позитивные и негативные. \n",
    " - Метрика качества F1 - не меньше 0.75"
   ]
  },
  {
   "cell_type": "markdown",
   "id": "a9cb4df3",
   "metadata": {},
   "source": [
    " - Recall показывает долю истинно положительных ответов модели среди всех *реально* положительных объектов - то есть показывает способность обнаруживать данный класс вообще <данная метрика была бы актуальна, если бы нам надо было найти максимальное количество токсичных комментариев>; \n",
    " - Presicion же показывает долю истинно положительных ответов модели среди всех *предсказанных* положительных объектов - то есть показывает способность отличать этот класс от других;    \n",
    " - F1 является гармоническим средним между этими метриками и используются при важности обеих метрик  "
   ]
  },
  {
   "cell_type": "markdown",
   "id": "e8e4c6e1",
   "metadata": {},
   "source": [
    "# Загрузка библиотек"
   ]
  },
  {
   "cell_type": "code",
   "execution_count": 1,
   "id": "e1819362",
   "metadata": {},
   "outputs": [
    {
     "name": "stdout",
     "output_type": "stream",
     "text": [
      "Requirement already satisfied: spacy in c:\\users\\olgaiaro\\anaconda3\\lib\\site-packages (3.5.0)\n",
      "Requirement already satisfied: murmurhash<1.1.0,>=0.28.0 in c:\\users\\olgaiaro\\anaconda3\\lib\\site-packages (from spacy) (1.0.9)\n",
      "Requirement already satisfied: preshed<3.1.0,>=3.0.2 in c:\\users\\olgaiaro\\anaconda3\\lib\\site-packages (from spacy) (3.0.8)\n",
      "Requirement already satisfied: pydantic!=1.8,!=1.8.1,<1.11.0,>=1.7.4 in c:\\users\\olgaiaro\\anaconda3\\lib\\site-packages (from spacy) (1.10.5)\n",
      "Requirement already satisfied: setuptools in c:\\users\\olgaiaro\\anaconda3\\lib\\site-packages (from spacy) (61.2.0)\n",
      "Requirement already satisfied: spacy-legacy<3.1.0,>=3.0.11 in c:\\users\\olgaiaro\\anaconda3\\lib\\site-packages (from spacy) (3.0.12)\n",
      "Requirement already satisfied: jinja2 in c:\\users\\olgaiaro\\anaconda3\\lib\\site-packages (from spacy) (2.11.3)\n",
      "Requirement already satisfied: cymem<2.1.0,>=2.0.2 in c:\\users\\olgaiaro\\anaconda3\\lib\\site-packages (from spacy) (2.0.7)\n",
      "Requirement already satisfied: spacy-loggers<2.0.0,>=1.0.0 in c:\\users\\olgaiaro\\anaconda3\\lib\\site-packages (from spacy) (1.0.4)\n",
      "Requirement already satisfied: numpy>=1.15.0 in c:\\users\\olgaiaro\\anaconda3\\lib\\site-packages (from spacy) (1.21.5)\n",
      "Requirement already satisfied: srsly<3.0.0,>=2.4.3 in c:\\users\\olgaiaro\\anaconda3\\lib\\site-packages (from spacy) (2.4.5)\n",
      "Requirement already satisfied: packaging>=20.0 in c:\\users\\olgaiaro\\anaconda3\\lib\\site-packages (from spacy) (21.3)\n",
      "Requirement already satisfied: langcodes<4.0.0,>=3.2.0 in c:\\users\\olgaiaro\\anaconda3\\lib\\site-packages (from spacy) (3.3.0)\n",
      "Requirement already satisfied: requests<3.0.0,>=2.13.0 in c:\\users\\olgaiaro\\anaconda3\\lib\\site-packages (from spacy) (2.27.1)\n",
      "Requirement already satisfied: wasabi<1.2.0,>=0.9.1 in c:\\users\\olgaiaro\\anaconda3\\lib\\site-packages (from spacy) (1.1.1)\n",
      "Requirement already satisfied: tqdm<5.0.0,>=4.38.0 in c:\\users\\olgaiaro\\anaconda3\\lib\\site-packages (from spacy) (4.64.0)\n",
      "Requirement already satisfied: pathy>=0.10.0 in c:\\users\\olgaiaro\\anaconda3\\lib\\site-packages (from spacy) (0.10.1)\n",
      "Requirement already satisfied: typer<0.8.0,>=0.3.0 in c:\\users\\olgaiaro\\anaconda3\\lib\\site-packages (from spacy) (0.7.0)\n",
      "Requirement already satisfied: smart-open<7.0.0,>=5.2.1 in c:\\users\\olgaiaro\\anaconda3\\lib\\site-packages (from spacy) (6.3.0)\n",
      "Requirement already satisfied: catalogue<2.1.0,>=2.0.6 in c:\\users\\olgaiaro\\anaconda3\\lib\\site-packages (from spacy) (2.0.8)\n",
      "Requirement already satisfied: thinc<8.2.0,>=8.1.0 in c:\\users\\olgaiaro\\anaconda3\\lib\\site-packages (from spacy) (8.1.7)\n",
      "Requirement already satisfied: pyparsing!=3.0.5,>=2.0.2 in c:\\users\\olgaiaro\\anaconda3\\lib\\site-packages (from packaging>=20.0->spacy) (3.0.4)\n",
      "Requirement already satisfied: typing-extensions>=4.2.0 in c:\\users\\olgaiaro\\anaconda3\\lib\\site-packages (from pydantic!=1.8,!=1.8.1,<1.11.0,>=1.7.4->spacy) (4.5.0)\n",
      "Requirement already satisfied: charset-normalizer~=2.0.0 in c:\\users\\olgaiaro\\anaconda3\\lib\\site-packages (from requests<3.0.0,>=2.13.0->spacy) (2.0.4)\n",
      "Requirement already satisfied: certifi>=2017.4.17 in c:\\users\\olgaiaro\\anaconda3\\lib\\site-packages (from requests<3.0.0,>=2.13.0->spacy) (2021.10.8)\n",
      "Requirement already satisfied: urllib3<1.27,>=1.21.1 in c:\\users\\olgaiaro\\anaconda3\\lib\\site-packages (from requests<3.0.0,>=2.13.0->spacy) (1.26.9)\n",
      "Requirement already satisfied: idna<4,>=2.5 in c:\\users\\olgaiaro\\anaconda3\\lib\\site-packages (from requests<3.0.0,>=2.13.0->spacy) (3.3)\n",
      "Requirement already satisfied: blis<0.8.0,>=0.7.8 in c:\\users\\olgaiaro\\anaconda3\\lib\\site-packages (from thinc<8.2.0,>=8.1.0->spacy) (0.7.9)\n",
      "Requirement already satisfied: confection<1.0.0,>=0.0.1 in c:\\users\\olgaiaro\\anaconda3\\lib\\site-packages (from thinc<8.2.0,>=8.1.0->spacy) (0.0.4)\n",
      "Requirement already satisfied: colorama in c:\\users\\olgaiaro\\anaconda3\\lib\\site-packages (from tqdm<5.0.0,>=4.38.0->spacy) (0.4.6)\n",
      "Requirement already satisfied: click<9.0.0,>=7.1.1 in c:\\users\\olgaiaro\\anaconda3\\lib\\site-packages (from typer<0.8.0,>=0.3.0->spacy) (8.0.4)\n",
      "Note: you may need to restart the kernel to use updated packages.\n",
      "Requirement already satisfied: MarkupSafe>=0.23 in c:\\users\\olgaiaro\\anaconda3\\lib\\site-packages (from jinja2->spacy) (2.0.1)\n",
      "Collecting en-core-web-sm==3.5.0\n",
      "  Downloading https://github.com/explosion/spacy-models/releases/download/en_core_web_sm-3.5.0/en_core_web_sm-3.5.0-py3-none-any.whl (12.8 MB)\n",
      "Requirement already satisfied: spacy<3.6.0,>=3.5.0 in c:\\users\\olgaiaro\\anaconda3\\lib\\site-packages (from en-core-web-sm==3.5.0) (3.5.0)\n",
      "Requirement already satisfied: typer<0.8.0,>=0.3.0 in c:\\users\\olgaiaro\\anaconda3\\lib\\site-packages (from spacy<3.6.0,>=3.5.0->en-core-web-sm==3.5.0) (0.7.0)\n",
      "Requirement already satisfied: pydantic!=1.8,!=1.8.1,<1.11.0,>=1.7.4 in c:\\users\\olgaiaro\\anaconda3\\lib\\site-packages (from spacy<3.6.0,>=3.5.0->en-core-web-sm==3.5.0) (1.10.5)\n",
      "Requirement already satisfied: packaging>=20.0 in c:\\users\\olgaiaro\\anaconda3\\lib\\site-packages (from spacy<3.6.0,>=3.5.0->en-core-web-sm==3.5.0) (21.3)\n",
      "Requirement already satisfied: spacy-legacy<3.1.0,>=3.0.11 in c:\\users\\olgaiaro\\anaconda3\\lib\\site-packages (from spacy<3.6.0,>=3.5.0->en-core-web-sm==3.5.0) (3.0.12)\n",
      "Requirement already satisfied: tqdm<5.0.0,>=4.38.0 in c:\\users\\olgaiaro\\anaconda3\\lib\\site-packages (from spacy<3.6.0,>=3.5.0->en-core-web-sm==3.5.0) (4.64.0)\n",
      "Requirement already satisfied: cymem<2.1.0,>=2.0.2 in c:\\users\\olgaiaro\\anaconda3\\lib\\site-packages (from spacy<3.6.0,>=3.5.0->en-core-web-sm==3.5.0) (2.0.7)\n",
      "Requirement already satisfied: wasabi<1.2.0,>=0.9.1 in c:\\users\\olgaiaro\\anaconda3\\lib\\site-packages (from spacy<3.6.0,>=3.5.0->en-core-web-sm==3.5.0) (1.1.1)\n",
      "Requirement already satisfied: smart-open<7.0.0,>=5.2.1 in c:\\users\\olgaiaro\\anaconda3\\lib\\site-packages (from spacy<3.6.0,>=3.5.0->en-core-web-sm==3.5.0) (6.3.0)\n",
      "Requirement already satisfied: thinc<8.2.0,>=8.1.0 in c:\\users\\olgaiaro\\anaconda3\\lib\\site-packages (from spacy<3.6.0,>=3.5.0->en-core-web-sm==3.5.0) (8.1.7)\n",
      "Requirement already satisfied: spacy-loggers<2.0.0,>=1.0.0 in c:\\users\\olgaiaro\\anaconda3\\lib\\site-packages (from spacy<3.6.0,>=3.5.0->en-core-web-sm==3.5.0) (1.0.4)\n",
      "Requirement already satisfied: murmurhash<1.1.0,>=0.28.0 in c:\\users\\olgaiaro\\anaconda3\\lib\\site-packages (from spacy<3.6.0,>=3.5.0->en-core-web-sm==3.5.0) (1.0.9)\n",
      "Requirement already satisfied: numpy>=1.15.0 in c:\\users\\olgaiaro\\anaconda3\\lib\\site-packages (from spacy<3.6.0,>=3.5.0->en-core-web-sm==3.5.0) (1.21.5)\n",
      "Requirement already satisfied: jinja2 in c:\\users\\olgaiaro\\anaconda3\\lib\\site-packages (from spacy<3.6.0,>=3.5.0->en-core-web-sm==3.5.0) (2.11.3)\n",
      "Requirement already satisfied: langcodes<4.0.0,>=3.2.0 in c:\\users\\olgaiaro\\anaconda3\\lib\\site-packages (from spacy<3.6.0,>=3.5.0->en-core-web-sm==3.5.0) (3.3.0)\n",
      "Requirement already satisfied: setuptools in c:\\users\\olgaiaro\\anaconda3\\lib\\site-packages (from spacy<3.6.0,>=3.5.0->en-core-web-sm==3.5.0) (61.2.0)\n",
      "Requirement already satisfied: requests<3.0.0,>=2.13.0 in c:\\users\\olgaiaro\\anaconda3\\lib\\site-packages (from spacy<3.6.0,>=3.5.0->en-core-web-sm==3.5.0) (2.27.1)\n",
      "Requirement already satisfied: preshed<3.1.0,>=3.0.2 in c:\\users\\olgaiaro\\anaconda3\\lib\\site-packages (from spacy<3.6.0,>=3.5.0->en-core-web-sm==3.5.0) (3.0.8)\n",
      "Requirement already satisfied: srsly<3.0.0,>=2.4.3 in c:\\users\\olgaiaro\\anaconda3\\lib\\site-packages (from spacy<3.6.0,>=3.5.0->en-core-web-sm==3.5.0) (2.4.5)\n",
      "Requirement already satisfied: pathy>=0.10.0 in c:\\users\\olgaiaro\\anaconda3\\lib\\site-packages (from spacy<3.6.0,>=3.5.0->en-core-web-sm==3.5.0) (0.10.1)\n",
      "Requirement already satisfied: catalogue<2.1.0,>=2.0.6 in c:\\users\\olgaiaro\\anaconda3\\lib\\site-packages (from spacy<3.6.0,>=3.5.0->en-core-web-sm==3.5.0) (2.0.8)\n",
      "Requirement already satisfied: pyparsing!=3.0.5,>=2.0.2 in c:\\users\\olgaiaro\\anaconda3\\lib\\site-packages (from packaging>=20.0->spacy<3.6.0,>=3.5.0->en-core-web-sm==3.5.0) (3.0.4)\n",
      "Requirement already satisfied: typing-extensions>=4.2.0 in c:\\users\\olgaiaro\\anaconda3\\lib\\site-packages (from pydantic!=1.8,!=1.8.1,<1.11.0,>=1.7.4->spacy<3.6.0,>=3.5.0->en-core-web-sm==3.5.0) (4.5.0)\n",
      "Requirement already satisfied: certifi>=2017.4.17 in c:\\users\\olgaiaro\\anaconda3\\lib\\site-packages (from requests<3.0.0,>=2.13.0->spacy<3.6.0,>=3.5.0->en-core-web-sm==3.5.0) (2021.10.8)\n",
      "Requirement already satisfied: idna<4,>=2.5 in c:\\users\\olgaiaro\\anaconda3\\lib\\site-packages (from requests<3.0.0,>=2.13.0->spacy<3.6.0,>=3.5.0->en-core-web-sm==3.5.0) (3.3)\n",
      "Requirement already satisfied: urllib3<1.27,>=1.21.1 in c:\\users\\olgaiaro\\anaconda3\\lib\\site-packages (from requests<3.0.0,>=2.13.0->spacy<3.6.0,>=3.5.0->en-core-web-sm==3.5.0) (1.26.9)\n",
      "Requirement already satisfied: charset-normalizer~=2.0.0 in c:\\users\\olgaiaro\\anaconda3\\lib\\site-packages (from requests<3.0.0,>=2.13.0->spacy<3.6.0,>=3.5.0->en-core-web-sm==3.5.0) (2.0.4)\n",
      "Requirement already satisfied: confection<1.0.0,>=0.0.1 in c:\\users\\olgaiaro\\anaconda3\\lib\\site-packages (from thinc<8.2.0,>=8.1.0->spacy<3.6.0,>=3.5.0->en-core-web-sm==3.5.0) (0.0.4)\n",
      "Requirement already satisfied: blis<0.8.0,>=0.7.8 in c:\\users\\olgaiaro\\anaconda3\\lib\\site-packages (from thinc<8.2.0,>=8.1.0->spacy<3.6.0,>=3.5.0->en-core-web-sm==3.5.0) (0.7.9)\n",
      "Requirement already satisfied: colorama in c:\\users\\olgaiaro\\anaconda3\\lib\\site-packages (from tqdm<5.0.0,>=4.38.0->spacy<3.6.0,>=3.5.0->en-core-web-sm==3.5.0) (0.4.6)\n",
      "Requirement already satisfied: click<9.0.0,>=7.1.1 in c:\\users\\olgaiaro\\anaconda3\\lib\\site-packages (from typer<0.8.0,>=0.3.0->spacy<3.6.0,>=3.5.0->en-core-web-sm==3.5.0) (8.0.4)\n",
      "Requirement already satisfied: MarkupSafe>=0.23 in c:\\users\\olgaiaro\\anaconda3\\lib\\site-packages (from jinja2->spacy<3.6.0,>=3.5.0->en-core-web-sm==3.5.0) (2.0.1)\n",
      "\u001b[38;5;2m[+] Download and installation successful\u001b[0m\n",
      "You can now load the package via spacy.load('en_core_web_sm')\n"
     ]
    },
    {
     "name": "stdout",
     "output_type": "stream",
     "text": [
      "Requirement already satisfied: pandas in c:\\users\\olgaiaro\\anaconda3\\lib\\site-packages (1.4.2)\n",
      "Requirement already satisfied: jupyter in c:\\users\\olgaiaro\\anaconda3\\lib\\site-packages (1.0.0)\n",
      "Requirement already satisfied: pandarallel in c:\\users\\olgaiaro\\anaconda3\\lib\\site-packages (1.6.4)\n",
      "Requirement already satisfied: requests in c:\\users\\olgaiaro\\anaconda3\\lib\\site-packages (2.27.1)\n",
      "Note: you may need to restart the kernel to use updated packages.\n",
      "Requirement already satisfied: tqdm in c:\\users\\olgaiaro\\anaconda3\\lib\\site-packages (4.64.0)\n",
      "Requirement already satisfied: python-dateutil>=2.8.1 in c:\\users\\olgaiaro\\anaconda3\\lib\\site-packages (from pandas) (2.8.2)\n",
      "Requirement already satisfied: pytz>=2020.1 in c:\\users\\olgaiaro\\anaconda3\\lib\\site-packages (from pandas) (2021.3)\n",
      "Requirement already satisfied: numpy>=1.18.5 in c:\\users\\olgaiaro\\anaconda3\\lib\\site-packages (from pandas) (1.21.5)\n",
      "Requirement already satisfied: jupyter-console in c:\\users\\olgaiaro\\anaconda3\\lib\\site-packages (from jupyter) (6.4.0)\n",
      "Requirement already satisfied: ipykernel in c:\\users\\olgaiaro\\anaconda3\\lib\\site-packages (from jupyter) (6.9.1)\n",
      "Requirement already satisfied: qtconsole in c:\\users\\olgaiaro\\anaconda3\\lib\\site-packages (from jupyter) (5.3.0)\n",
      "Requirement already satisfied: notebook in c:\\users\\olgaiaro\\anaconda3\\lib\\site-packages (from jupyter) (6.4.8)\n",
      "Requirement already satisfied: nbconvert in c:\\users\\olgaiaro\\anaconda3\\lib\\site-packages (from jupyter) (6.4.4)\n",
      "Requirement already satisfied: ipywidgets in c:\\users\\olgaiaro\\anaconda3\\lib\\site-packages (from jupyter) (7.6.5)\n",
      "Requirement already satisfied: psutil in c:\\users\\olgaiaro\\anaconda3\\lib\\site-packages (from pandarallel) (5.8.0)\n",
      "Requirement already satisfied: dill>=0.3.1 in c:\\users\\olgaiaro\\anaconda3\\lib\\site-packages (from pandarallel) (0.3.6)\n",
      "Requirement already satisfied: idna<4,>=2.5 in c:\\users\\olgaiaro\\anaconda3\\lib\\site-packages (from requests) (3.3)\n",
      "Requirement already satisfied: urllib3<1.27,>=1.21.1 in c:\\users\\olgaiaro\\anaconda3\\lib\\site-packages (from requests) (1.26.9)\n",
      "Requirement already satisfied: charset-normalizer~=2.0.0 in c:\\users\\olgaiaro\\anaconda3\\lib\\site-packages (from requests) (2.0.4)\n",
      "Requirement already satisfied: certifi>=2017.4.17 in c:\\users\\olgaiaro\\anaconda3\\lib\\site-packages (from requests) (2021.10.8)\n",
      "Requirement already satisfied: colorama in c:\\users\\olgaiaro\\anaconda3\\lib\\site-packages (from tqdm) (0.4.6)\n",
      "Requirement already satisfied: six>=1.5 in c:\\users\\olgaiaro\\anaconda3\\lib\\site-packages (from python-dateutil>=2.8.1->pandas) (1.16.0)\n",
      "Requirement already satisfied: ipython>=7.23.1 in c:\\users\\olgaiaro\\anaconda3\\lib\\site-packages (from ipykernel->jupyter) (8.2.0)\n",
      "Requirement already satisfied: tornado<7.0,>=4.2 in c:\\users\\olgaiaro\\anaconda3\\lib\\site-packages (from ipykernel->jupyter) (6.1)\n",
      "Requirement already satisfied: traitlets<6.0,>=5.1.0 in c:\\users\\olgaiaro\\anaconda3\\lib\\site-packages (from ipykernel->jupyter) (5.1.1)\n",
      "Requirement already satisfied: nest-asyncio in c:\\users\\olgaiaro\\anaconda3\\lib\\site-packages (from ipykernel->jupyter) (1.5.5)\n",
      "Requirement already satisfied: jupyter-client<8.0 in c:\\users\\olgaiaro\\anaconda3\\lib\\site-packages (from ipykernel->jupyter) (6.1.12)\n",
      "Requirement already satisfied: debugpy<2.0,>=1.0.0 in c:\\users\\olgaiaro\\anaconda3\\lib\\site-packages (from ipykernel->jupyter) (1.5.1)\n",
      "Requirement already satisfied: matplotlib-inline<0.2.0,>=0.1.0 in c:\\users\\olgaiaro\\anaconda3\\lib\\site-packages (from ipykernel->jupyter) (0.1.2)\n",
      "Requirement already satisfied: pygments>=2.4.0 in c:\\users\\olgaiaro\\anaconda3\\lib\\site-packages (from ipython>=7.23.1->ipykernel->jupyter) (2.11.2)\n",
      "Requirement already satisfied: decorator in c:\\users\\olgaiaro\\anaconda3\\lib\\site-packages (from ipython>=7.23.1->ipykernel->jupyter) (5.1.1)\n",
      "Requirement already satisfied: jedi>=0.16 in c:\\users\\olgaiaro\\anaconda3\\lib\\site-packages (from ipython>=7.23.1->ipykernel->jupyter) (0.18.1)\n",
      "Requirement already satisfied: stack-data in c:\\users\\olgaiaro\\anaconda3\\lib\\site-packages (from ipython>=7.23.1->ipykernel->jupyter) (0.2.0)\n",
      "Requirement already satisfied: setuptools>=18.5 in c:\\users\\olgaiaro\\anaconda3\\lib\\site-packages (from ipython>=7.23.1->ipykernel->jupyter) (61.2.0)\n",
      "Requirement already satisfied: pickleshare in c:\\users\\olgaiaro\\anaconda3\\lib\\site-packages (from ipython>=7.23.1->ipykernel->jupyter) (0.7.5)\n",
      "Requirement already satisfied: prompt-toolkit!=3.0.0,!=3.0.1,<3.1.0,>=2.0.0 in c:\\users\\olgaiaro\\anaconda3\\lib\\site-packages (from ipython>=7.23.1->ipykernel->jupyter) (3.0.20)\n",
      "Requirement already satisfied: backcall in c:\\users\\olgaiaro\\anaconda3\\lib\\site-packages (from ipython>=7.23.1->ipykernel->jupyter) (0.2.0)\n",
      "Requirement already satisfied: parso<0.9.0,>=0.8.0 in c:\\users\\olgaiaro\\anaconda3\\lib\\site-packages (from jedi>=0.16->ipython>=7.23.1->ipykernel->jupyter) (0.8.3)\n",
      "Requirement already satisfied: pyzmq>=13 in c:\\users\\olgaiaro\\anaconda3\\lib\\site-packages (from jupyter-client<8.0->ipykernel->jupyter) (22.3.0)\n",
      "Requirement already satisfied: jupyter-core>=4.6.0 in c:\\users\\olgaiaro\\anaconda3\\lib\\site-packages (from jupyter-client<8.0->ipykernel->jupyter) (4.9.2)\n",
      "Requirement already satisfied: pywin32>=1.0 in c:\\users\\olgaiaro\\anaconda3\\lib\\site-packages (from jupyter-core>=4.6.0->jupyter-client<8.0->ipykernel->jupyter) (302)\n",
      "Requirement already satisfied: wcwidth in c:\\users\\olgaiaro\\anaconda3\\lib\\site-packages (from prompt-toolkit!=3.0.0,!=3.0.1,<3.1.0,>=2.0.0->ipython>=7.23.1->ipykernel->jupyter) (0.2.5)\n",
      "Requirement already satisfied: widgetsnbextension~=3.5.0 in c:\\users\\olgaiaro\\anaconda3\\lib\\site-packages (from ipywidgets->jupyter) (3.5.2)\n",
      "Requirement already satisfied: jupyterlab-widgets>=1.0.0 in c:\\users\\olgaiaro\\anaconda3\\lib\\site-packages (from ipywidgets->jupyter) (1.0.0)\n",
      "Requirement already satisfied: nbformat>=4.2.0 in c:\\users\\olgaiaro\\anaconda3\\lib\\site-packages (from ipywidgets->jupyter) (5.3.0)\n",
      "Requirement already satisfied: ipython-genutils~=0.2.0 in c:\\users\\olgaiaro\\anaconda3\\lib\\site-packages (from ipywidgets->jupyter) (0.2.0)\n",
      "Requirement already satisfied: jsonschema>=2.6 in c:\\users\\olgaiaro\\anaconda3\\lib\\site-packages (from nbformat>=4.2.0->ipywidgets->jupyter) (4.4.0)\n",
      "Requirement already satisfied: fastjsonschema in c:\\users\\olgaiaro\\anaconda3\\lib\\site-packages (from nbformat>=4.2.0->ipywidgets->jupyter) (2.15.1)\n",
      "Requirement already satisfied: attrs>=17.4.0 in c:\\users\\olgaiaro\\anaconda3\\lib\\site-packages (from jsonschema>=2.6->nbformat>=4.2.0->ipywidgets->jupyter) (21.4.0)\n",
      "Requirement already satisfied: pyrsistent!=0.17.0,!=0.17.1,!=0.17.2,>=0.14.0 in c:\\users\\olgaiaro\\anaconda3\\lib\\site-packages (from jsonschema>=2.6->nbformat>=4.2.0->ipywidgets->jupyter) (0.18.0)\n",
      "Requirement already satisfied: jinja2 in c:\\users\\olgaiaro\\anaconda3\\lib\\site-packages (from notebook->jupyter) (2.11.3)\n",
      "Requirement already satisfied: terminado>=0.8.3 in c:\\users\\olgaiaro\\anaconda3\\lib\\site-packages (from notebook->jupyter) (0.13.1)\n",
      "Requirement already satisfied: Send2Trash>=1.8.0 in c:\\users\\olgaiaro\\anaconda3\\lib\\site-packages (from notebook->jupyter) (1.8.0)\n",
      "Requirement already satisfied: prometheus-client in c:\\users\\olgaiaro\\anaconda3\\lib\\site-packages (from notebook->jupyter) (0.13.1)\n",
      "Requirement already satisfied: argon2-cffi in c:\\users\\olgaiaro\\anaconda3\\lib\\site-packages (from notebook->jupyter) (21.3.0)\n",
      "Requirement already satisfied: pywinpty>=1.1.0 in c:\\users\\olgaiaro\\anaconda3\\lib\\site-packages (from terminado>=0.8.3->notebook->jupyter) (2.0.2)\n",
      "Requirement already satisfied: argon2-cffi-bindings in c:\\users\\olgaiaro\\anaconda3\\lib\\site-packages (from argon2-cffi->notebook->jupyter) (21.2.0)\n",
      "Requirement already satisfied: cffi>=1.0.1 in c:\\users\\olgaiaro\\anaconda3\\lib\\site-packages (from argon2-cffi-bindings->argon2-cffi->notebook->jupyter) (1.15.0)\n",
      "Requirement already satisfied: pycparser in c:\\users\\olgaiaro\\anaconda3\\lib\\site-packages (from cffi>=1.0.1->argon2-cffi-bindings->argon2-cffi->notebook->jupyter) (2.21)\n",
      "Requirement already satisfied: MarkupSafe>=0.23 in c:\\users\\olgaiaro\\anaconda3\\lib\\site-packages (from jinja2->notebook->jupyter) (2.0.1)\n",
      "Requirement already satisfied: jupyterlab-pygments in c:\\users\\olgaiaro\\anaconda3\\lib\\site-packages (from nbconvert->jupyter) (0.1.2)\n",
      "Requirement already satisfied: defusedxml in c:\\users\\olgaiaro\\anaconda3\\lib\\site-packages (from nbconvert->jupyter) (0.7.1)\n",
      "Requirement already satisfied: nbclient<0.6.0,>=0.5.0 in c:\\users\\olgaiaro\\anaconda3\\lib\\site-packages (from nbconvert->jupyter) (0.5.13)\n",
      "Requirement already satisfied: pandocfilters>=1.4.1 in c:\\users\\olgaiaro\\anaconda3\\lib\\site-packages (from nbconvert->jupyter) (1.5.0)\n",
      "Requirement already satisfied: bleach in c:\\users\\olgaiaro\\anaconda3\\lib\\site-packages (from nbconvert->jupyter) (4.1.0)\n",
      "Requirement already satisfied: entrypoints>=0.2.2 in c:\\users\\olgaiaro\\anaconda3\\lib\\site-packages (from nbconvert->jupyter) (0.4)\n",
      "Requirement already satisfied: testpath in c:\\users\\olgaiaro\\anaconda3\\lib\\site-packages (from nbconvert->jupyter) (0.5.0)\n",
      "Requirement already satisfied: beautifulsoup4 in c:\\users\\olgaiaro\\anaconda3\\lib\\site-packages (from nbconvert->jupyter) (4.11.1)\n",
      "Requirement already satisfied: mistune<2,>=0.8.1 in c:\\users\\olgaiaro\\anaconda3\\lib\\site-packages (from nbconvert->jupyter) (0.8.4)\n",
      "Requirement already satisfied: soupsieve>1.2 in c:\\users\\olgaiaro\\anaconda3\\lib\\site-packages (from beautifulsoup4->nbconvert->jupyter) (2.3.1)\n",
      "Requirement already satisfied: packaging in c:\\users\\olgaiaro\\anaconda3\\lib\\site-packages (from bleach->nbconvert->jupyter) (21.3)\n",
      "Requirement already satisfied: webencodings in c:\\users\\olgaiaro\\anaconda3\\lib\\site-packages (from bleach->nbconvert->jupyter) (0.5.1)\n",
      "Requirement already satisfied: pyparsing!=3.0.5,>=2.0.2 in c:\\users\\olgaiaro\\anaconda3\\lib\\site-packages (from packaging->bleach->nbconvert->jupyter) (3.0.4)\n",
      "Requirement already satisfied: qtpy>=2.0.1 in c:\\users\\olgaiaro\\anaconda3\\lib\\site-packages (from qtconsole->jupyter) (2.0.1)\n",
      "Requirement already satisfied: asttokens in c:\\users\\olgaiaro\\anaconda3\\lib\\site-packages (from stack-data->ipython>=7.23.1->ipykernel->jupyter) (2.0.5)\n",
      "Requirement already satisfied: pure-eval in c:\\users\\olgaiaro\\anaconda3\\lib\\site-packages (from stack-data->ipython>=7.23.1->ipykernel->jupyter) (0.2.2)\n",
      "Requirement already satisfied: executing in c:\\users\\olgaiaro\\anaconda3\\lib\\site-packages (from stack-data->ipython>=7.23.1->ipykernel->jupyter) (0.8.3)\n"
     ]
    },
    {
     "name": "stdout",
     "output_type": "stream",
     "text": [
      "Requirement already satisfied: wordcloud in c:\\users\\olgaiaro\\anaconda3\\lib\\site-packages (1.8.2.2)\n",
      "Requirement already satisfied: numpy>=1.6.1 in c:\\users\\olgaiaro\\anaconda3\\lib\\site-packages (from wordcloud) (1.21.5)\n",
      "Requirement already satisfied: matplotlib in c:\\users\\olgaiaro\\anaconda3\\lib\\site-packages (from wordcloud) (3.5.1)\n",
      "Requirement already satisfied: pillow in c:\\users\\olgaiaro\\anaconda3\\lib\\site-packages (from wordcloud) (9.0.1)\n",
      "Requirement already satisfied: python-dateutil>=2.7 in c:\\users\\olgaiaro\\anaconda3\\lib\\site-packages (from matplotlib->wordcloud) (2.8.2)\n",
      "Requirement already satisfied: fonttools>=4.22.0 in c:\\users\\olgaiaro\\anaconda3\\lib\\site-packages (from matplotlib->wordcloud) (4.25.0)\n",
      "Requirement already satisfied: pyparsing>=2.2.1 in c:\\users\\olgaiaro\\anaconda3\\lib\\site-packages (from matplotlib->wordcloud) (3.0.4)\n",
      "Requirement already satisfied: packaging>=20.0 in c:\\users\\olgaiaro\\anaconda3\\lib\\site-packages (from matplotlib->wordcloud) (21.3)\n",
      "Requirement already satisfied: cycler>=0.10 in c:\\users\\olgaiaro\\anaconda3\\lib\\site-packages (from matplotlib->wordcloud) (0.11.0)\n",
      "Requirement already satisfied: kiwisolver>=1.0.1 in c:\\users\\olgaiaro\\anaconda3\\lib\\site-packages (from matplotlib->wordcloud) (1.3.2)\n",
      "Requirement already satisfied: six>=1.5 in c:\\users\\olgaiaro\\anaconda3\\lib\\site-packages (from python-dateutil>=2.7->matplotlib->wordcloud) (1.16.0)\n",
      "Note: you may need to restart the kernel to use updated packages.\n"
     ]
    }
   ],
   "source": [
    "# подгрузка библиотек \n",
    "\n",
    "%pip install spacy\n",
    "!python -m spacy download en_core_web_sm\n",
    "%pip install pandas jupyter pandarallel requests tqdm\n",
    "%pip install wordcloud\n",
    "%matplotlib inline"
   ]
  },
  {
   "cell_type": "code",
   "execution_count": 2,
   "id": "c010f020",
   "metadata": {},
   "outputs": [],
   "source": [
    "# импорт библиотек\n",
    "    \n",
    "import pandas as pd\n",
    "import numpy as np\n",
    "import matplotlib.pyplot as plt\n",
    "\n",
    "import re\n",
    "import requests\n",
    "import nltk\n",
    "from nltk.corpus import stopwords\n",
    "from nltk.probability import FreqDist\n",
    "import random\n",
    "random.seed(42)\n",
    "\n",
    "from sklearn.pipeline import Pipeline\n",
    "from sklearn.feature_extraction.text import CountVectorizer, TfidfVectorizer\n",
    "from sklearn.model_selection import train_test_split, GridSearchCV\n",
    "from sklearn.metrics import f1_score\n",
    "from sklearn.linear_model import LogisticRegression\n",
    "from sklearn.tree import DecisionTreeClassifier\n",
    "from sklearn.ensemble import RandomForestClassifier\n",
    "\n",
    "import spacy\n",
    "from wordcloud import WordCloud\n",
    "from tqdm import tqdm, notebook\n",
    "tqdm.pandas()"
   ]
  },
  {
   "cell_type": "code",
   "execution_count": 3,
   "id": "09ab1a3a",
   "metadata": {},
   "outputs": [],
   "source": [
    "# инициируем модель для лемматизации текста\n",
    "\n",
    "nlp = spacy.load('en_core_web_sm')"
   ]
  },
  {
   "cell_type": "code",
   "execution_count": 4,
   "id": "6e8e8015",
   "metadata": {},
   "outputs": [
    {
     "name": "stderr",
     "output_type": "stream",
     "text": [
      "[nltk_data] Downloading package stopwords to\n",
      "[nltk_data]     C:\\Users\\OLGAIARO\\AppData\\Roaming\\nltk_data...\n",
      "[nltk_data]   Package stopwords is already up-to-date!\n"
     ]
    }
   ],
   "source": [
    "# создадим список стоп-слов\n",
    "\n",
    "nltk.download('stopwords') \n",
    "stopwords = set(stopwords.words('english'))"
   ]
  },
  {
   "cell_type": "markdown",
   "id": "a4104a43",
   "metadata": {},
   "source": [
    "# Обзор данных"
   ]
  },
  {
   "cell_type": "code",
   "execution_count": 5,
   "id": "bad13e4b",
   "metadata": {},
   "outputs": [],
   "source": [
    "# открытие файла\n",
    "\n",
    "try:\n",
    "    data = pd.read_csv('toxic_comments.csv', index_col=0)\n",
    "except:\n",
    "    data = pd.read_csv('https://code.s3.yandex.net/datasets/toxic_comments.csv', index_col=0)"
   ]
  },
  {
   "cell_type": "code",
   "execution_count": 6,
   "id": "225631dc",
   "metadata": {},
   "outputs": [
    {
     "name": "stdout",
     "output_type": "stream",
     "text": [
      "<class 'pandas.core.frame.DataFrame'>\n",
      "Int64Index: 159292 entries, 0 to 159450\n",
      "Data columns (total 2 columns):\n",
      " #   Column  Non-Null Count   Dtype \n",
      "---  ------  --------------   ----- \n",
      " 0   text    159292 non-null  object\n",
      " 1   toxic   159292 non-null  int64 \n",
      "dtypes: int64(1), object(1)\n",
      "memory usage: 3.6+ MB\n"
     ]
    }
   ],
   "source": [
    "# обзор\n",
    "\n",
    "data.info()"
   ]
  },
  {
   "cell_type": "code",
   "execution_count": 7,
   "id": "5829a505",
   "metadata": {},
   "outputs": [
    {
     "data": {
      "text/html": [
       "<div>\n",
       "<style scoped>\n",
       "    .dataframe tbody tr th:only-of-type {\n",
       "        vertical-align: middle;\n",
       "    }\n",
       "\n",
       "    .dataframe tbody tr th {\n",
       "        vertical-align: top;\n",
       "    }\n",
       "\n",
       "    .dataframe thead th {\n",
       "        text-align: right;\n",
       "    }\n",
       "</style>\n",
       "<table border=\"1\" class=\"dataframe\">\n",
       "  <thead>\n",
       "    <tr style=\"text-align: right;\">\n",
       "      <th></th>\n",
       "      <th>text</th>\n",
       "      <th>toxic</th>\n",
       "    </tr>\n",
       "  </thead>\n",
       "  <tbody>\n",
       "    <tr>\n",
       "      <th>18242</th>\n",
       "      <td>REDIRECT User talk:The Sports Diatribe/NCAA-AL...</td>\n",
       "      <td>0</td>\n",
       "    </tr>\n",
       "    <tr>\n",
       "      <th>128548</th>\n",
       "      <td>\"\\nSubsequent entities\\nI have changed the suc...</td>\n",
       "      <td>0</td>\n",
       "    </tr>\n",
       "    <tr>\n",
       "      <th>109267</th>\n",
       "      <td>\"\\n\\nWell that got ugly real quick. Sorry I co...</td>\n",
       "      <td>0</td>\n",
       "    </tr>\n",
       "    <tr>\n",
       "      <th>23267</th>\n",
       "      <td>Articles that rely on primary sources should o...</td>\n",
       "      <td>0</td>\n",
       "    </tr>\n",
       "    <tr>\n",
       "      <th>121160</th>\n",
       "      <td>] // 06 // [http://www.webcitation.org/5emm355...</td>\n",
       "      <td>0</td>\n",
       "    </tr>\n",
       "  </tbody>\n",
       "</table>\n",
       "</div>"
      ],
      "text/plain": [
       "                                                     text  toxic\n",
       "18242   REDIRECT User talk:The Sports Diatribe/NCAA-AL...      0\n",
       "128548  \"\\nSubsequent entities\\nI have changed the suc...      0\n",
       "109267  \"\\n\\nWell that got ugly real quick. Sorry I co...      0\n",
       "23267   Articles that rely on primary sources should o...      0\n",
       "121160  ] // 06 // [http://www.webcitation.org/5emm355...      0"
      ]
     },
     "execution_count": 7,
     "metadata": {},
     "output_type": "execute_result"
    }
   ],
   "source": [
    "# выделим 5 слуачйных строк для обзора\n",
    "\n",
    "data.sample(n=5) "
   ]
  },
  {
   "cell_type": "code",
   "execution_count": 8,
   "id": "3cf09448",
   "metadata": {},
   "outputs": [
    {
     "name": "stdout",
     "output_type": "stream",
     "text": [
      "Explanation\n",
      "Why the edits made under my username Hardcore Metallica Fan were reverted? They weren't vandalisms, just closure on some GAs after I voted at New York Dolls FAC. And please don't remove the template from the talk page since I'm retired now.89.205.38.27\n"
     ]
    }
   ],
   "source": [
    "# оценим состав текстов\n",
    "\n",
    "print(data['text'][0])"
   ]
  },
  {
   "cell_type": "code",
   "execution_count": 9,
   "id": "aa38568d",
   "metadata": {},
   "outputs": [
    {
     "name": "stdout",
     "output_type": "stream",
     "text": [
      "Токсичные тексты - 10 % от текста\n"
     ]
    }
   ],
   "source": [
    "# оценим баланс классов\n",
    "\n",
    "print('Токсичные тексты -', round(data.loc[data['toxic']==1].shape[0]*100/data.shape[0]), '% от текста')"
   ]
  },
  {
   "cell_type": "code",
   "execution_count": 10,
   "id": "249befbc",
   "metadata": {},
   "outputs": [
    {
     "data": {
      "image/png": "[encoded data removed]",
      "text/plain": [
       "<Figure size 720x360 with 1 Axes>"
      ]
     },
     "metadata": {
      "needs_background": "light"
     },
     "output_type": "display_data"
    }
   ],
   "source": [
    "data['toxic'].plot(title='Распределение классов',\n",
    "                   kind='hist',\n",
    "                   color='green',\n",
    "                   figsize=(10,5)\n",
    "                  )\n",
    "\n",
    "plt.show()"
   ]
  },
  {
   "cell_type": "markdown",
   "id": "0cca07c1",
   "metadata": {},
   "source": [
    "<div class=\"alert alert-warning\">\n",
    "\n",
    "**Вывод по обзору данных**\n",
    "\n",
    " - Закодировать данные в Юникод\n",
    " - Токенизировать и лемматизировать тексты\n",
    " - Очистить данные от стоп-слов (а также ненужных чисел, символов, ссылок и проч.)\n",
    "\n",
    "\n",
    " - При обучении необходимо учитывать дисбаланс классов"
   ]
  },
  {
   "cell_type": "markdown",
   "id": "c5128d22",
   "metadata": {},
   "source": [
    "# Предобработка"
   ]
  },
  {
   "cell_type": "code",
   "execution_count": 11,
   "id": "7a5f3652",
   "metadata": {},
   "outputs": [
    {
     "data": {
      "text/plain": [
       "0"
      ]
     },
     "execution_count": 11,
     "metadata": {},
     "output_type": "execute_result"
    }
   ],
   "source": [
    "# оценим наличие полных дубликатов в датасете\n",
    "\n",
    "data.duplicated().sum()"
   ]
  },
  {
   "cell_type": "code",
   "execution_count": 12,
   "id": "4aabd791",
   "metadata": {},
   "outputs": [
    {
     "data": {
      "text/plain": [
       "text     0\n",
       "toxic    0\n",
       "dtype: int64"
      ]
     },
     "execution_count": 12,
     "metadata": {},
     "output_type": "execute_result"
    }
   ],
   "source": [
    "# оценим наличие пропусков\n",
    "\n",
    "data.isnull().sum()"
   ]
  },
  {
   "cell_type": "markdown",
   "id": "032b8625",
   "metadata": {},
   "source": [
    "## Предобработка текста "
   ]
  },
  {
   "cell_type": "markdown",
   "id": "8d660a1c",
   "metadata": {},
   "source": [
    "Напишем функцию для подготовки текстовых данных к обучению\n",
    "\n",
    "Функция будет:\n",
    " - токенизировать текст корпуса\n",
    " - лемматизировать текст \n",
    " - приведет каждое слово к нижнему регистру\n",
    " - очистит текст от стоп-слов\n",
    " - очистит данные от другх лишних символов\n",
    " - вернет очищенный и подготовленный текст формата строки"
   ]
  },
  {
   "cell_type": "code",
   "execution_count": 32,
   "id": "ffd8efde",
   "metadata": {},
   "outputs": [],
   "source": [
    "def clean(text):\n",
    "\n",
    "    text = nlp(text)\n",
    "        # лемматиризуем каждый текст с использованием POS (определения части речи) и перезаписываем его в исходный список\n",
    "    text = ' '.join([word.lemma_ for word in text])\n",
    "        # собираем разрозненные буквы снова в слова\n",
    "    text = text.split(' ')\n",
    "        \n",
    "        # приводим все слова текста к нижнему регистру\n",
    "    text = [str(word).lower() for word in text]\n",
    "        \n",
    "        # очищаем текст от стоп-слов \n",
    "    text = [word for word in text if word not in stopwords]\n",
    "        \n",
    "        # очищаем данные \n",
    "    text = re.sub(r'[^a-z]', ' ', str(text))\n",
    "        # убираем полученные лишние пробелы (от удаления символов выше)\n",
    "    text = text.split()\n",
    "    \n",
    "    return str(text)"
   ]
  },
  {
   "cell_type": "code",
   "execution_count": 33,
   "id": "b047c66a",
   "metadata": {},
   "outputs": [
    {
     "name": "stderr",
     "output_type": "stream",
     "text": [
      "100%|██████████████████████████████████████████████████████████████████████████| 159292/159292 [37:44<00:00, 70.35it/s]\n"
     ]
    }
   ],
   "source": [
    "# преобразуем корпус\n",
    "\n",
    "X = data['text'].progress_apply(lambda x: clean(x))"
   ]
  },
  {
   "cell_type": "code",
   "execution_count": 34,
   "id": "9f6ce56d",
   "metadata": {},
   "outputs": [
    {
     "data": {
      "text/plain": [
       "0         ['explanation', 'n', 'edit', 'make', 'username...\n",
       "1         ['d', 'aww', 'match', 'background', 'colour', ...\n",
       "2         ['hey', 'man', 'really', 'try', 'edit', 'war',...\n",
       "3         ['n', 'n', 'make', 'real', 'suggestion', 'impr...\n",
       "4             ['sir', 'hero', 'chance', 'remember', 'page']\n",
       "                                ...                        \n",
       "159446    ['second', 'time', 'asking', 'view', 'complete...\n",
       "159447    ['ashamed', 'n', 'n', 'horrible', 'thing', 'pu...\n",
       "159448    ['spitzer', 'n', 'n', 'umm', 'actual', 'articl...\n",
       "159449    ['look', 'like', 'actually', 'put', 'speedy', ...\n",
       "159450    ['n', 'really', 'think', 'understand', 'come',...\n",
       "Name: text, Length: 159292, dtype: object"
      ]
     },
     "execution_count": 34,
     "metadata": {},
     "output_type": "execute_result"
    }
   ],
   "source": [
    "# оценим полученные данные\n",
    "X"
   ]
  },
  {
   "cell_type": "code",
   "execution_count": 40,
   "id": "be88daf5",
   "metadata": {},
   "outputs": [
    {
     "data": {
      "image/png": "[encoded data removed]",
      "text/plain": [
       "<Figure size 432x288 with 1 Axes>"
      ]
     },
     "metadata": {
      "needs_background": "light"
     },
     "output_type": "display_data"
    }
   ],
   "source": [
    "# выведем самые часто встречающиеся слова в корпусе\n",
    "\n",
    "fdist = FreqDist(X)\n",
    "fdist.plot(3,\n",
    "           title='Топ-3 самых часто встречающихся слов корпуса',\n",
    "           color='green'\n",
    "          )\n",
    "plt.show()"
   ]
  },
  {
   "cell_type": "code",
   "execution_count": 41,
   "id": "e103dd41",
   "metadata": {},
   "outputs": [],
   "source": [
    "# выделим индексы токсичных текстов\n",
    "\n",
    "toxic = data.loc[data['toxic']==1].index"
   ]
  },
  {
   "cell_type": "code",
   "execution_count": 42,
   "id": "808ea46c",
   "metadata": {},
   "outputs": [],
   "source": [
    "# выделим токсичные тексты в отдельный список\n",
    "\n",
    "toxic_text = X[list(toxic)]"
   ]
  },
  {
   "cell_type": "code",
   "execution_count": 44,
   "id": "34808b02",
   "metadata": {},
   "outputs": [
    {
     "data": {
      "image/png": "[encoded data removed]",
      "text/plain": [
       "<Figure size 432x288 with 1 Axes>"
      ]
     },
     "metadata": {
      "needs_background": "light"
     },
     "output_type": "display_data"
    }
   ],
   "source": [
    "# выведем самые часто встречающиеся слова токсичных текстов\n",
    "\n",
    "fdist = FreqDist(toxic_text)\n",
    "fdist.plot(3,\n",
    "           title='Топ-3 самых часто встречающихся слов в токсичных текстах',\n",
    "           color='green'\n",
    "          )\n",
    "plt.show()"
   ]
  },
  {
   "cell_type": "code",
   "execution_count": 47,
   "id": "eb9683b3",
   "metadata": {},
   "outputs": [
    {
     "data": {
      "text/plain": [
       "Text(0.5, 1.0, 'Облако слов всех текстов')"
      ]
     },
     "execution_count": 47,
     "metadata": {},
     "output_type": "execute_result"
    },
    {
     "data": {
      "image/png": "[encoded data removed]",
      "text/plain": [
       "<Figure size 432x288 with 1 Axes>"
      ]
     },
     "metadata": {
      "needs_background": "light"
     },
     "output_type": "display_data"
    }
   ],
   "source": [
    "# выведем облако слов всего корпуса\n",
    "\n",
    "cloud = WordCloud(collocations=False).generate(str(X))\n",
    "\n",
    "plt.imshow(cloud)\n",
    "plt.title('Облако слов всех текстов')"
   ]
  },
  {
   "cell_type": "code",
   "execution_count": 48,
   "id": "f8dca14f",
   "metadata": {
    "scrolled": false
   },
   "outputs": [
    {
     "data": {
      "text/plain": [
       "Text(0.5, 1.0, 'Облако слов токсичных текстов')"
      ]
     },
     "execution_count": 48,
     "metadata": {},
     "output_type": "execute_result"
    },
    {
     "data": {
      "image/png": "[encoded data removed]",
      "text/plain": [
       "<Figure size 432x288 with 1 Axes>"
      ]
     },
     "metadata": {
      "needs_background": "light"
     },
     "output_type": "display_data"
    }
   ],
   "source": [
    "# выведем облако слов токсичных текстов\n",
    "\n",
    "toxic_cloud = WordCloud(collocations=False).generate(str(toxic_text))\n",
    "\n",
    "plt.imshow(toxic_cloud)\n",
    "plt.title('Облако слов токсичных текстов')"
   ]
  },
  {
   "cell_type": "markdown",
   "id": "daa93f16",
   "metadata": {},
   "source": [
    "## Подготовка к обучению "
   ]
  },
  {
   "cell_type": "code",
   "execution_count": 49,
   "id": "46bb9820",
   "metadata": {},
   "outputs": [],
   "source": [
    "# выделим целевой признак\n",
    "\n",
    "y = data['toxic']"
   ]
  },
  {
   "cell_type": "code",
   "execution_count": 50,
   "id": "2385bf5b",
   "metadata": {},
   "outputs": [],
   "source": [
    "# разделим данные на обучающую и тестовую выборки, при этом сохраним дисбаланс классов при разделении выборок \n",
    "\n",
    "X_train, X_test, y_train, y_test = train_test_split(X, y, test_size=0.3, random_state=123, stratify=y)"
   ]
  },
  {
   "cell_type": "code",
   "execution_count": 51,
   "id": "95c14271",
   "metadata": {},
   "outputs": [
    {
     "name": "stdout",
     "output_type": "stream",
     "text": [
      "(111504,)\n",
      "(111504,)\n",
      "(47788,)\n",
      "(47788,)\n"
     ]
    }
   ],
   "source": [
    "# проверим размерность\n",
    "\n",
    "print(X_train.shape)\n",
    "print(y_train.shape)\n",
    "print(X_test.shape)\n",
    "print(y_test.shape)"
   ]
  },
  {
   "cell_type": "code",
   "execution_count": 52,
   "id": "69ce1c9e",
   "metadata": {},
   "outputs": [],
   "source": [
    "# зададим параметры сетки логистической регрессии\n",
    "\n",
    "lr_params = {'lr__solver': ['newton-cg','sag', 'lbfgs', 'liblinear'],\n",
    "             'lr__class_weight': ['balanced'],\n",
    "             'lr__max_iter' : [100, 1000]\n",
    "              }"
   ]
  },
  {
   "cell_type": "code",
   "execution_count": 53,
   "id": "2247aed7",
   "metadata": {},
   "outputs": [],
   "source": [
    "# зададим параметры сетки дерева\n",
    "\n",
    "tree_params = {'tree__max_depth': range (1,10),\n",
    "              'tree__min_samples_leaf': range (2,4,2),\n",
    "              'tree__min_samples_split': range (2,4,2)\n",
    "              }"
   ]
  },
  {
   "cell_type": "code",
   "execution_count": 68,
   "id": "15b16d39",
   "metadata": {},
   "outputs": [],
   "source": [
    "# зададим параметры сетки леса\n",
    "\n",
    "forest_params = {'forest__n_estimators': range (5, 25, 5),\n",
    "                 'forest__max_depth': range (1,5),\n",
    "                 'forest__min_samples_leaf': range(2,4,2),\n",
    "                 'forest__min_samples_split': range(2,4,2)\n",
    "                }"
   ]
  },
  {
   "cell_type": "markdown",
   "id": "988a24a7",
   "metadata": {},
   "source": [
    "# Обучение с помощью мешка слов"
   ]
  },
  {
   "cell_type": "markdown",
   "id": "2f34e933",
   "metadata": {},
   "source": [
    "Попробуем обучить модель с помощью мешка слов, подобрав оптимальные параметры с помощью GridSearch\n"
   ]
  },
  {
   "cell_type": "code",
   "execution_count": 69,
   "id": "d83b01d5",
   "metadata": {},
   "outputs": [],
   "source": [
    "# создадим пайплайн логистической регрессии \n",
    "\n",
    "lr_bag_pipe = Pipeline([\n",
    "    ('vect', CountVectorizer()),\n",
    "    ('lr', LogisticRegression(random_state = 42))\n",
    "])"
   ]
  },
  {
   "cell_type": "code",
   "execution_count": 70,
   "id": "4ebae262",
   "metadata": {},
   "outputs": [
    {
     "name": "stderr",
     "output_type": "stream",
     "text": [
      "C:\\Users\\OLGAIARO\\anaconda3\\lib\\site-packages\\sklearn\\linear_model\\_sag.py:352: ConvergenceWarning: The max_iter was reached which means the coef_ did not converge\n",
      "  warnings.warn(\n",
      "C:\\Users\\OLGAIARO\\anaconda3\\lib\\site-packages\\sklearn\\linear_model\\_sag.py:352: ConvergenceWarning: The max_iter was reached which means the coef_ did not converge\n",
      "  warnings.warn(\n",
      "C:\\Users\\OLGAIARO\\anaconda3\\lib\\site-packages\\sklearn\\linear_model\\_sag.py:352: ConvergenceWarning: The max_iter was reached which means the coef_ did not converge\n",
      "  warnings.warn(\n",
      "C:\\Users\\OLGAIARO\\anaconda3\\lib\\site-packages\\sklearn\\linear_model\\_logistic.py:814: ConvergenceWarning: lbfgs failed to converge (status=1):\n",
      "STOP: TOTAL NO. of ITERATIONS REACHED LIMIT.\n",
      "\n",
      "Increase the number of iterations (max_iter) or scale the data as shown in:\n",
      "    https://scikit-learn.org/stable/modules/preprocessing.html\n",
      "Please also refer to the documentation for alternative solver options:\n",
      "    https://scikit-learn.org/stable/modules/linear_model.html#logistic-regression\n",
      "  n_iter_i = _check_optimize_result(\n",
      "C:\\Users\\OLGAIARO\\anaconda3\\lib\\site-packages\\sklearn\\linear_model\\_logistic.py:814: ConvergenceWarning: lbfgs failed to converge (status=1):\n",
      "STOP: TOTAL NO. of ITERATIONS REACHED LIMIT.\n",
      "\n",
      "Increase the number of iterations (max_iter) or scale the data as shown in:\n",
      "    https://scikit-learn.org/stable/modules/preprocessing.html\n",
      "Please also refer to the documentation for alternative solver options:\n",
      "    https://scikit-learn.org/stable/modules/linear_model.html#logistic-regression\n",
      "  n_iter_i = _check_optimize_result(\n",
      "C:\\Users\\OLGAIARO\\anaconda3\\lib\\site-packages\\sklearn\\linear_model\\_logistic.py:814: ConvergenceWarning: lbfgs failed to converge (status=1):\n",
      "STOP: TOTAL NO. of ITERATIONS REACHED LIMIT.\n",
      "\n",
      "Increase the number of iterations (max_iter) or scale the data as shown in:\n",
      "    https://scikit-learn.org/stable/modules/preprocessing.html\n",
      "Please also refer to the documentation for alternative solver options:\n",
      "    https://scikit-learn.org/stable/modules/linear_model.html#logistic-regression\n",
      "  n_iter_i = _check_optimize_result(\n",
      "C:\\Users\\OLGAIARO\\anaconda3\\lib\\site-packages\\sklearn\\svm\\_base.py:1206: ConvergenceWarning: Liblinear failed to converge, increase the number of iterations.\n",
      "  warnings.warn(\n",
      "C:\\Users\\OLGAIARO\\anaconda3\\lib\\site-packages\\sklearn\\svm\\_base.py:1206: ConvergenceWarning: Liblinear failed to converge, increase the number of iterations.\n",
      "  warnings.warn(\n",
      "C:\\Users\\OLGAIARO\\anaconda3\\lib\\site-packages\\sklearn\\svm\\_base.py:1206: ConvergenceWarning: Liblinear failed to converge, increase the number of iterations.\n",
      "  warnings.warn(\n",
      "C:\\Users\\OLGAIARO\\anaconda3\\lib\\site-packages\\sklearn\\linear_model\\_sag.py:352: ConvergenceWarning: The max_iter was reached which means the coef_ did not converge\n",
      "  warnings.warn(\n",
      "C:\\Users\\OLGAIARO\\anaconda3\\lib\\site-packages\\sklearn\\linear_model\\_sag.py:352: ConvergenceWarning: The max_iter was reached which means the coef_ did not converge\n",
      "  warnings.warn(\n",
      "C:\\Users\\OLGAIARO\\anaconda3\\lib\\site-packages\\sklearn\\linear_model\\_sag.py:352: ConvergenceWarning: The max_iter was reached which means the coef_ did not converge\n",
      "  warnings.warn(\n"
     ]
    },
    {
     "name": "stdout",
     "output_type": "stream",
     "text": [
      "best params {'lr__class_weight': 'balanced', 'lr__max_iter': 1000, 'lr__solver': 'liblinear'}\n",
      "f1 0.7600071413496411\n",
      "CPU times: total: 10min 49s\n",
      "Wall time: 14min 53s\n"
     ]
    },
    {
     "name": "stderr",
     "output_type": "stream",
     "text": [
      "C:\\Users\\OLGAIARO\\anaconda3\\lib\\site-packages\\sklearn\\svm\\_base.py:1206: ConvergenceWarning: Liblinear failed to converge, increase the number of iterations.\n",
      "  warnings.warn(\n"
     ]
    }
   ],
   "source": [
    "%%time\n",
    "\n",
    "# применим GridSearchCV и выведем лучшие гиперпараметры\n",
    "\n",
    "grid_lr_bag = GridSearchCV(lr_bag_pipe, lr_params, cv=3, scoring='f1')\n",
    "grid_lr_bag.fit(X_train, y_train)\n",
    "print('best params', grid_lr_bag.best_params_)\n",
    "print('f1', grid_lr_bag.best_score_)"
   ]
  },
  {
   "cell_type": "code",
   "execution_count": 71,
   "id": "a089dfeb",
   "metadata": {},
   "outputs": [],
   "source": [
    "# создадим пайплайн дерева решений \n",
    "\n",
    "tree_bag_pipe = Pipeline([\n",
    "    ('vect', CountVectorizer()),\n",
    "    ('tree', DecisionTreeClassifier(random_state = 42))\n",
    "])"
   ]
  },
  {
   "cell_type": "code",
   "execution_count": 72,
   "id": "70af44df",
   "metadata": {},
   "outputs": [
    {
     "name": "stdout",
     "output_type": "stream",
     "text": [
      "best params {'tree__max_depth': 9, 'tree__min_samples_leaf': 2, 'tree__min_samples_split': 2}\n",
      "f1 0.5901391914204381\n",
      "CPU times: total: 1min 23s\n",
      "Wall time: 2min 33s\n"
     ]
    }
   ],
   "source": [
    "%%time\n",
    "\n",
    "# применим GridSearchCV и выведем лучшие гиперпараметры\n",
    "\n",
    "grid_tree_bag = GridSearchCV(tree_bag_pipe, tree_params, cv=3, scoring='f1')\n",
    "grid_tree_bag.fit(X_train, y_train)\n",
    "print('best params', grid_tree_bag.best_params_)\n",
    "print('f1', grid_tree_bag.best_score_)"
   ]
  },
  {
   "cell_type": "code",
   "execution_count": 73,
   "id": "0a6f6b8e",
   "metadata": {},
   "outputs": [],
   "source": [
    "# создадим пайплайн случайного леса \n",
    "\n",
    "forest_bag_pipe = Pipeline([\n",
    "    ('vect', CountVectorizer()),\n",
    "    ('forest', RandomForestClassifier(random_state = 42))\n",
    "])"
   ]
  },
  {
   "cell_type": "code",
   "execution_count": 74,
   "id": "1b209cba",
   "metadata": {},
   "outputs": [
    {
     "name": "stdout",
     "output_type": "stream",
     "text": [
      "best params {'forest__max_depth': 1, 'forest__min_samples_leaf': 2, 'forest__min_samples_split': 2, 'forest__n_estimators': 5}\n",
      "f1 0.0\n",
      "CPU times: total: 2min 7s\n",
      "Wall time: 3min 53s\n"
     ]
    }
   ],
   "source": [
    "%%time\n",
    "\n",
    "# применим GridSearchCV и выведем лучшие параметры\n",
    "\n",
    "grid_forest_bag = GridSearchCV(forest_bag_pipe, forest_params, cv=3, scoring='f1')\n",
    "grid_forest_bag.fit(X_train, y_train)\n",
    "print('best params', grid_forest_bag.best_params_)\n",
    "print('f1', grid_forest_bag.best_score_)"
   ]
  },
  {
   "cell_type": "markdown",
   "id": "95ad27ae",
   "metadata": {},
   "source": [
    "<div class=\"alert alert-warning\">\n",
    "\n",
    "**Вывод**\n",
    "\n",
    "При обучении с помощью мешка слов лучшую метрику качества показала Логистическая регрессия - 0.76.\n",
    "\n",
    "F1 Дерева решений составило 0.59, а Случайного леса - 0"
   ]
  },
  {
   "cell_type": "markdown",
   "id": "a3e8b135",
   "metadata": {},
   "source": [
    "# Обучение с помощью TF-IDF"
   ]
  },
  {
   "cell_type": "code",
   "execution_count": 75,
   "id": "dd4092a9",
   "metadata": {},
   "outputs": [],
   "source": [
    "# создадим пайплайн логистической регрессии \n",
    "\n",
    "lr_tfidf_pipe = Pipeline([\n",
    "    ('tfidf', TfidfVectorizer()),\n",
    "    ('lr', LogisticRegression(random_state = 42))\n",
    "])"
   ]
  },
  {
   "cell_type": "code",
   "execution_count": 76,
   "id": "d2d3f8fc",
   "metadata": {},
   "outputs": [
    {
     "name": "stderr",
     "output_type": "stream",
     "text": [
      "C:\\Users\\OLGAIARO\\anaconda3\\lib\\site-packages\\sklearn\\linear_model\\_logistic.py:814: ConvergenceWarning: lbfgs failed to converge (status=1):\n",
      "STOP: TOTAL NO. of ITERATIONS REACHED LIMIT.\n",
      "\n",
      "Increase the number of iterations (max_iter) or scale the data as shown in:\n",
      "    https://scikit-learn.org/stable/modules/preprocessing.html\n",
      "Please also refer to the documentation for alternative solver options:\n",
      "    https://scikit-learn.org/stable/modules/linear_model.html#logistic-regression\n",
      "  n_iter_i = _check_optimize_result(\n"
     ]
    },
    {
     "name": "stdout",
     "output_type": "stream",
     "text": [
      "best params {'lr__class_weight': 'balanced', 'lr__max_iter': 100, 'lr__solver': 'lbfgs'}\n",
      "f1 0.747682604656327\n",
      "CPU times: total: 1min 54s\n",
      "Wall time: 3min 3s\n"
     ]
    }
   ],
   "source": [
    "%%time\n",
    "\n",
    "# применим GridSearchCV и выведем лучшие гиперпараметры\n",
    "\n",
    "grid_lr_tfidf = GridSearchCV(lr_tfidf_pipe, lr_params, cv=3, scoring='f1')\n",
    "grid_lr_tfidf.fit(X_train, y_train)\n",
    "print('best params', grid_lr_tfidf.best_params_)\n",
    "print('f1', grid_lr_tfidf.best_score_)"
   ]
  },
  {
   "cell_type": "code",
   "execution_count": 77,
   "id": "fab44668",
   "metadata": {},
   "outputs": [],
   "source": [
    "# создадим пайплайн дерева решений \n",
    "\n",
    "tree_tfidf_pipe = Pipeline([\n",
    "    ('tfidf', TfidfVectorizer()),\n",
    "    ('tree', DecisionTreeClassifier(random_state = 42))\n",
    "])"
   ]
  },
  {
   "cell_type": "code",
   "execution_count": 78,
   "id": "b770aa7d",
   "metadata": {},
   "outputs": [
    {
     "name": "stdout",
     "output_type": "stream",
     "text": [
      "best params {'tree__max_depth': 9, 'tree__min_samples_leaf': 2, 'tree__min_samples_split': 2}\n",
      "f1 0.5858384897794926\n",
      "CPU times: total: 1min 27s\n",
      "Wall time: 3min 13s\n"
     ]
    }
   ],
   "source": [
    "%%time\n",
    "\n",
    "# применим GridSearchCV и выведем лучшие гиперпараметры\n",
    "\n",
    "grid_tree_tfidf = GridSearchCV(tree_tfidf_pipe, tree_params, cv=3, scoring='f1')\n",
    "grid_tree_tfidf.fit(X_train, y_train)\n",
    "print('best params', grid_tree_tfidf.best_params_)\n",
    "print('f1', grid_tree_tfidf.best_score_)"
   ]
  },
  {
   "cell_type": "code",
   "execution_count": 79,
   "id": "9967cff3",
   "metadata": {},
   "outputs": [],
   "source": [
    "# создадим пайплайн случайного леса \n",
    "\n",
    "forest_tfidf_pipe = Pipeline([\n",
    "    ('tfidf', TfidfVectorizer()),\n",
    "    ('forest', RandomForestClassifier(random_state = 42))\n",
    "])"
   ]
  },
  {
   "cell_type": "code",
   "execution_count": 80,
   "id": "579d0341",
   "metadata": {},
   "outputs": [
    {
     "name": "stdout",
     "output_type": "stream",
     "text": [
      "best params {'forest__max_depth': 1, 'forest__min_samples_leaf': 2, 'forest__min_samples_split': 2, 'forest__n_estimators': 5}\n",
      "f1 0.0\n",
      "CPU times: total: 2min 12s\n",
      "Wall time: 3min 51s\n"
     ]
    }
   ],
   "source": [
    "%%time\n",
    "\n",
    "# применим GridSearchCV и выведем лучшие параметры\n",
    "\n",
    "grid_forest_tfidf = GridSearchCV(forest_tfidf_pipe, forest_params, cv=3, scoring='f1')\n",
    "grid_forest_tfidf.fit(X_train, y_train)\n",
    "print('best params', grid_forest_tfidf.best_params_)\n",
    "print('f1', grid_forest_tfidf.best_score_)"
   ]
  },
  {
   "cell_type": "markdown",
   "id": "5e6ad247",
   "metadata": {},
   "source": [
    "<div class=\"alert alert-warning\">\n",
    "\n",
    "**Вывод**\n",
    "\n",
    "При обучении с помощью важности слов tf-idf качество Логистической регрессии немного упало - 0.747.\n",
    "F1 Дерева решений составило 0.585, а Случайного леса - 0"
   ]
  },
  {
   "cell_type": "markdown",
   "id": "de68fadb",
   "metadata": {},
   "source": [
    "# Тест"
   ]
  },
  {
   "cell_type": "markdown",
   "id": "8466594f",
   "metadata": {},
   "source": [
    "Так как самый высокий показатель качества был на логистической регрессии при использовании мешка слов - используем эту модель для теста"
   ]
  },
  {
   "cell_type": "code",
   "execution_count": 81,
   "id": "ffe31a70",
   "metadata": {},
   "outputs": [
    {
     "name": "stdout",
     "output_type": "stream",
     "text": [
      "Значение F1 на тесте - 0.7635680751173709\n"
     ]
    }
   ],
   "source": [
    "# выведем предсказания на модели с лучшим качеством на обучении\n",
    "\n",
    "y_pred = grid_lr_bag.best_estimator_.predict(X_test)\n",
    "best_f1 = f1_score(y_pred, y_test)\n",
    "print('Значение F1 на тесте -', best_f1)"
   ]
  },
  {
   "cell_type": "markdown",
   "id": "6fff4ea8",
   "metadata": {},
   "source": [
    "# Вывод"
   ]
  },
  {
   "cell_type": "markdown",
   "id": "cc1eea41",
   "metadata": {},
   "source": [
    "<div class=\"alert alert-info\">\n",
    "\n",
    "Для предсказания тональности текста была проведена предобработка текста:\n",
    "  - токенизация и лемматизация данных\n",
    "  - привод всех слов к нижнему регистру\n",
    "  - очистка текста от стоп-слов, лишних символов и чисел \n",
    "\n",
    "Для построения векторов были использованы 2 способа:\n",
    "  - мешок слов CountVectorizer \n",
    "  - важность слов TF-IDF\n",
    "\n",
    "Лучшая модель подбиралась с помощью поиска по сетке GridSearchCV. Для подбора использовались:\n",
    " - Логистическая регрессия\n",
    " - Дерево решений\n",
    " - Случайный лес\n",
    " \n",
    "Самые высокие показатели метрики качества выдала Логистическая регрессия с сильным отрывом от других моделей, при этом использование мешка слов показало качество немного выше, чем tf-idf.\n",
    "\n",
    "Метрика F1 на обучении составила 0.76, на тесте - 0.763"
   ]
  }
 ],
 "metadata": {
  "kernelspec": {
   "display_name": "Python 3 (ipykernel)",
   "language": "python",
   "name": "python3"
  },
  "language_info": {
   "codemirror_mode": {
    "name": "ipython",
    "version": 3
   },
   "file_extension": ".py",
   "mimetype": "text/x-python",
   "name": "python",
   "nbconvert_exporter": "python",
   "pygments_lexer": "ipython3",
   "version": "3.9.12"
  },
  "toc": {
   "base_numbering": 1,
   "nav_menu": {},
   "number_sections": true,
   "sideBar": true,
   "skip_h1_title": false,
   "title_cell": "Table of Contents",
   "title_sidebar": "Contents",
   "toc_cell": false,
   "toc_position": {
    "height": "calc(100% - 180px)",
    "left": "10px",
    "top": "150px",
    "width": "303.825px"
   },
   "toc_section_display": true,
   "toc_window_display": true
  },
  "widgets": {
   "application/vnd.jupyter.widget-state+json": {
    "state": {},
    "version_major": 2,
    "version_minor": 0
   }
  }
 },
 "nbformat": 4,
 "nbformat_minor": 5
}
